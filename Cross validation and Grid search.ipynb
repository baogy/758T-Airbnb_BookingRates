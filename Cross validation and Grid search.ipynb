{
 "cells": [
  {
   "cell_type": "code",
   "execution_count": 1,
   "metadata": {},
   "outputs": [
    {
     "name": "stderr",
     "output_type": "stream",
     "text": [
      "C:\\Users\\gbao\\AppData\\Local\\Continuum\\anaconda3\\lib\\site-packages\\dask\\dataframe\\utils.py:14: FutureWarning: pandas.util.testing is deprecated. Use the functions in the public API at pandas.testing instead.\n",
      "  import pandas.util.testing as tm\n"
     ]
    }
   ],
   "source": [
    "import pandas as pd\n",
    "import numpy as np\n",
    "import os\n",
    "import re\n",
    "import xgboost as xgb\n",
    "import matplotlib.pyplot as plt"
   ]
  },
  {
   "cell_type": "code",
   "execution_count": 2,
   "metadata": {},
   "outputs": [
    {
     "name": "stderr",
     "output_type": "stream",
     "text": [
      "C:\\Users\\gbao\\AppData\\Local\\Continuum\\anaconda3\\lib\\site-packages\\IPython\\core\\interactiveshell.py:3058: DtypeWarning: Columns (2,4,6,7,8,10,11,28,35,43,45,69) have mixed types.Specify dtype option on import or set low_memory=False.\n",
      "  interactivity=interactivity, compiler=compiler, result=result)\n"
     ]
    },
    {
     "name": "stdout",
     "output_type": "stream",
     "text": [
      "(100000, 69)\n",
      "(12208, 69)\n"
     ]
    }
   ],
   "source": [
    "path = r\"C:\\Users\\gbao\\Google 云端硬盘\\BUDT758T\\Project\\Data\"\n",
    "data_dict = pd.read_excel(os.path.join(path,\"data_dictionary_2020.xlsx\"),index_col=0)\n",
    "X_train = pd.read_csv(os.path.join(path,\"airbnb_train_x.csv\"),index_col=0)\n",
    "y_train = pd.read_csv(os.path.join(path,\"airbnb_train_y.csv\"),index_col=0)\n",
    "X_test = pd.read_csv(os.path.join(path,\"airbnb_test_x.csv\"),index_col=0)\n",
    "\n",
    "#whole_data = X_whole.merge(y_train,how=\"left\",left_index=True,right_index=True)\n",
    "test_index = X_test.index\n",
    "print(X_train.shape)\n",
    "print(X_test.shape)\n",
    "HPI = pd.read_excel(os.path.join(path,\"HPI_AT_BDL_county.xlsx\"), skiprows=6)\n",
    "\n",
    "X_all = pd.concat([X_train,X_test],keys=[\"train\",\"test\"])\n",
    "HPI = HPI.groupby([\"FIPS code\"]).max()"
   ]
  },
  {
   "cell_type": "code",
   "execution_count": 3,
   "metadata": {},
   "outputs": [],
   "source": [
    "ohe_features = [\"bed_type\",\"cancellation_policy\",\"experiences_offered\",\n",
    "                \"host_has_profile_pic\",\"host_identity_verified\",\"host_is_superhost\",\n",
    "               \"host_response_time\",\"host_neighbourhood\",\"host_verifications\",\n",
    "               \"instant_bookable\",\"is_business_travel_ready\",\"is_location_exact\",\n",
    "               \"jurisdiction_names\",\"license\",\"market\",\"neighbourhood\",\n",
    "               \"property_type\",\"require_guest_phone_verification\",\"require_guest_profile_picture\",\n",
    "               \"requires_license\",\"room_type\",\"smart_location\"]\n",
    "\n",
    "features = [\"amenities\",\"bed_type\",\"cancellation_policy\",\n",
    "                \"host_has_profile_pic\",\"host_identity_verified\",\"host_is_superhost\",\n",
    "               \"host_response_time\",\"host_verifications\",\n",
    "               \"instant_bookable\",\"is_business_travel_ready\",\"is_location_exact\",\n",
    "               \"property_type\",\"require_guest_phone_verification\",\"require_guest_profile_picture\",\n",
    "               \"requires_license\",\"room_type\"]\n"
   ]
  },
  {
   "cell_type": "code",
   "execution_count": 4,
   "metadata": {},
   "outputs": [
    {
     "name": "stderr",
     "output_type": "stream",
     "text": [
      "C:\\Users\\gbao\\AppData\\Local\\Continuum\\anaconda3\\lib\\site-packages\\pandas\\core\\frame.py:3997: SettingWithCopyWarning: \n",
      "A value is trying to be set on a copy of a slice from a DataFrame\n",
      "\n",
      "See the caveats in the documentation: https://pandas.pydata.org/pandas-docs/stable/user_guide/indexing.html#returning-a-view-versus-a-copy\n",
      "  errors=errors,\n",
      "C:\\Users\\gbao\\AppData\\Local\\Continuum\\anaconda3\\lib\\site-packages\\ipykernel_launcher.py:56: SettingWithCopyWarning: \n",
      "A value is trying to be set on a copy of a slice from a DataFrame\n",
      "\n",
      "See the caveats in the documentation: https://pandas.pydata.org/pandas-docs/stable/user_guide/indexing.html#returning-a-view-versus-a-copy\n"
     ]
    }
   ],
   "source": [
    "#data processing function\n",
    "def data_process(data, features):\n",
    "    data[\"amenities\"] = data.amenities.str.split(\",\").apply(len)\n",
    "    quantile_25 = data.amenities.quantile(0.25)\n",
    "    quantile_75 = data.amenities.quantile(0.75)\n",
    "    data[\"amenities\"] = data.amenities.apply(lambda x:\"Low\" if x<quantile_25 else (\"Hihg\" if x>quantile_25 else \"Middel\"))\n",
    "    data[\"host_verifications\"] = data.host_verifications.astype(\"str\")\n",
    "    data[\"host_verifications\"] = data.host_verifications.str.split(\",\")\n",
    "    data[\"host_verifications\"] = data[\"host_verifications\"].apply(len)\n",
    "    quantile_25 = data.host_verifications.quantile(0.25)\n",
    "    quantile_75 = data.host_verifications.quantile(0.75)\n",
    "    data[\"host_verifications\"] = data.host_verifications.apply(lambda x:\"Low\" if x<quantile_25 else (\"Hihg\" if x>quantile_25 else \"Middel\"))\n",
    "    \n",
    "    valid_element = ['Real Bed','Futon','Couch','Pull-out Sofa','Airbed']\n",
    "    data.bed_type = data.bed_type.apply(lambda x: np.nan if x not in valid_element else x)\n",
    "    valid_element = ['strict','moderate','flexible','super_strict_30','super_strict_60']\n",
    "    data.cancellation_policy = data.cancellation_policy.apply(lambda x: np.nan if x not in valid_element else x)\n",
    "    valid_element = ['t','f']\n",
    "    data.host_has_profile_pic = data.host_has_profile_pic.apply(lambda x: np.nan if x not in valid_element else x)\n",
    "    data.host_identity_verified = data.host_identity_verified.apply(lambda x: np.nan if x not in valid_element else x)\n",
    "    data.host_is_superhost = data.host_is_superhost.apply(lambda x: np.nan if x not in valid_element else x)\n",
    "    data.instant_bookable = data.instant_bookable.apply(lambda x: np.nan if x not in valid_element else x)\n",
    "    data.is_business_travel_ready = data.is_business_travel_ready.apply(lambda x: np.nan if x not in valid_element else x)\n",
    "    data.is_location_exact = data.is_location_exact.apply(lambda x: np.nan if x not in valid_element else x)\n",
    "    data.require_guest_phone_verification = data.require_guest_phone_verification.apply(lambda x: np.nan if x not in valid_element else x)\n",
    "    valid_element = ['within a few hours','within an hour','within a day','a few days or more']\n",
    "    data.host_response_time = data.host_response_time.apply(lambda x: np.nan if x not in valid_element else x)\n",
    "    \n",
    "    pattern = \"(\\d{5})\"\n",
    "    data.zipcode = data.zipcode.astype(\"str\", copy=False)\n",
    "    data.zipcode = data.zipcode.str.extract(pattern)\n",
    "    data.zipcode = data.zipcode.astype(\"str\", copy=False)\n",
    "    data.zipcode = data.zipcode.apply(lambda x: x[:4])\n",
    "    \n",
    "    numerical_column = data_dict[data_dict[\"variable type\"] == \"numerical\"].index.values\n",
    "    \n",
    "    pattern = \"(\\d+\\.*\\d*)\"\n",
    "    for i in numerical_column:\n",
    "        temp = data[i].astype(\"str\")\n",
    "        temp = temp.str.extract(pattern)\n",
    "        data[i] = temp.astype(\"float\")\n",
    "        \n",
    "    temp = features+list(numerical_column)\n",
    "    data = data[temp]\n",
    "\n",
    "    #data.dropna(thresh=15, inplace=True)\n",
    "    for i in features:\n",
    "        temp = pd.get_dummies(data[i], prefix = i)\n",
    "        data.drop([i],axis=1,inplace=True)\n",
    "        data = pd.concat((data, temp), axis=1)\n",
    "    return(data)\n",
    "\n",
    "\n",
    "X_all = data_process(X_all, features)\n",
    "X_train = X_all.loc[\"train\"]\n",
    "X_train.dropna(thresh=15, inplace=True)\n",
    "X_test = X_all.loc[\"test\",:]"
   ]
  },
  {
   "cell_type": "code",
   "execution_count": 5,
   "metadata": {},
   "outputs": [],
   "source": [
    "def xgb_data_process(X_train_processed, y_train):\n",
    "    temp = X_train_processed.merge(y_train,how='left',left_index=True,right_index=True)\n",
    "    temp.dropna(subset=[\"high_booking_rate\"],inplace=True)\n",
    "    columns=y_train.columns\n",
    "    y_train_xgb = temp.high_booking_rate\n",
    "    X_train_xgb = temp.drop(columns=columns)\n",
    "    dtrain = xgb.DMatrix(X_train_xgb, label=y_train_xgb)\n",
    "    return(dtrain)\n",
    "\n",
    "dtrain = xgb_data_process(X_train, y_train)\n",
    "\n",
    "param = {\"max_depth\": 6, \"eta\":1,\"objective\":\"binary:logistic\"}\n",
    "num_round = 1000\n",
    "#bst = xgb.cv(param, dtrain, num_boost_round=30, nfold=5, seed=52)"
   ]
  },
  {
   "cell_type": "code",
   "execution_count": 6,
   "metadata": {},
   "outputs": [],
   "source": [
    "record_errors = np.array([])\n",
    "grid_depth = np.arange(1,100,5)\n",
    "for depth in grid_depth:\n",
    "    param = {\"max_depth\": depth, \"eta\":1,\"objective\":\"binary:logistic\"}\n",
    "    bst = xgb.cv(param, dtrain, num_boost_round=30, nfold=5, seed=42, early_stopping_rounds=20) \n",
    "    record_errors = np.append(record_errors, bst.iloc[-1,2])\n",
    "best_index = np.where(record_errors == np.min(record_errors))"
   ]
  },
  {
   "cell_type": "code",
   "execution_count": 7,
   "metadata": {},
   "outputs": [
    {
     "name": "stdout",
     "output_type": "stream",
     "text": [
      "[0]\ttrain-error:0.21258\n",
      "Will train until train-error hasn't improved in 20 rounds.\n",
      "[1]\ttrain-error:0.19149\n",
      "[2]\ttrain-error:0.18612\n",
      "[3]\ttrain-error:0.18105\n",
      "[4]\ttrain-error:0.17646\n",
      "[5]\ttrain-error:0.17289\n",
      "[6]\ttrain-error:0.17101\n",
      "[7]\ttrain-error:0.16757\n",
      "[8]\ttrain-error:0.16404\n",
      "[9]\ttrain-error:0.16342\n",
      "[10]\ttrain-error:0.16077\n",
      "[11]\ttrain-error:0.15976\n",
      "[12]\ttrain-error:0.15737\n",
      "[13]\ttrain-error:0.15649\n",
      "[14]\ttrain-error:0.15520\n",
      "[15]\ttrain-error:0.15403\n",
      "[16]\ttrain-error:0.15233\n",
      "[17]\ttrain-error:0.15048\n",
      "[18]\ttrain-error:0.14915\n",
      "[19]\ttrain-error:0.14704\n",
      "[20]\ttrain-error:0.14615\n",
      "[21]\ttrain-error:0.14540\n",
      "[22]\ttrain-error:0.14511\n",
      "[23]\ttrain-error:0.14361\n",
      "[24]\ttrain-error:0.14249\n",
      "[25]\ttrain-error:0.14183\n",
      "[26]\ttrain-error:0.13997\n",
      "[27]\ttrain-error:0.13861\n",
      "[28]\ttrain-error:0.13775\n",
      "[29]\ttrain-error:0.13626\n"
     ]
    }
   ],
   "source": [
    "param = {\"max_depth\": int(grid_depth[best_index]), \"eta\":1,\"objective\":\"binary:logistic\"}\n",
    "watch_list = [(dtrain,\"train\")]\n",
    "bst = xgb.train(param, dtrain, num_boost_round=30,early_stopping_rounds=20,evals=watch_list)\n",
    "dtest = xgb.DMatrix(X_test)\n",
    "ypred = bst.predict(dtest)\n",
    "result = pd.Series(map(lambda x: 1 if x>0.5 else 0, ypred),name=\"high_booking_rate\")\n",
    "len(result)\n",
    "result.to_excel(\"high_booking_rate.xlsx\") "
   ]
  },
  {
   "cell_type": "code",
   "execution_count": null,
   "metadata": {},
   "outputs": [],
   "source": []
  }
 ],
 "metadata": {
  "kernelspec": {
   "display_name": "Python 3",
   "language": "python",
   "name": "python3"
  },
  "language_info": {
   "codemirror_mode": {
    "name": "ipython",
    "version": 3
   },
   "file_extension": ".py",
   "mimetype": "text/x-python",
   "name": "python",
   "nbconvert_exporter": "python",
   "pygments_lexer": "ipython3",
   "version": "3.7.4"
  }
 },
 "nbformat": 4,
 "nbformat_minor": 2
}
